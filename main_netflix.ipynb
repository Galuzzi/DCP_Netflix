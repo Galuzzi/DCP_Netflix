{
 "cells": [
  {
   "cell_type": "markdown",
   "id": "937acf3c-c077-4ca6-8d90-8f6dd4d13c54",
   "metadata": {},
   "source": [
    "<center><img src=\"redpopcorn.jpg\"></center>"
   ]
  },
  {
   "cell_type": "markdown",
   "id": "5962b2cd-17bb-4ec9-b2d5-68537ca26860",
   "metadata": {},
   "source": [
    "**Netflix**! What started in 1997 as a DVD rental service has since exploded into one of the largest entertainment and media companies.\n",
    "\n",
    "Given the large number of movies and series available on the platform, it is a perfect opportunity to flex your exploratory data analysis skills and dive into the entertainment industry.\n",
    "\n",
    "You work for a production company that specializes in nostalgic styles. You want to do some research on movies released in the 1990's. You'll delve into Netflix data and perform exploratory data analysis to better understand this awesome movie decade!\n",
    "\n",
    "You have been supplied with the dataset `netflix_data.csv`, along with the following table detailing the column names and descriptions. Feel free to experiment further after submitting!\n",
    "\n",
    "## The data\n",
    "### **netflix_data.csv**\n",
    "| Column | Description |\n",
    "|--------|-------------|\n",
    "| `show_id` | The ID of the show |\n",
    "| `type` | Type of show |\n",
    "| `title` | Title of the show |\n",
    "| `director` | Director of the show |\n",
    "| `cast` | Cast of the show |\n",
    "| `country` | Country of origin |\n",
    "| `date_added` | Date added to Netflix |\n",
    "| `release_year` | Year of Netflix release |\n",
    "| `duration` | Duration of the show in minutes |\n",
    "| `description` | Description of the show |\n",
    "| `genre` | Show genre |"
   ]
  },
  {
   "cell_type": "code",
   "execution_count": 1,
   "id": "320a3abc-8a36-4b2b-baaf-473325363a4d",
   "metadata": {
    "executionCancelledAt": null,
    "executionTime": 36,
    "lastExecutedAt": 1736855674048,
    "lastExecutedByKernel": "84e4c6b8-335d-4762-aaf5-394da9d52b92",
    "lastScheduledRunId": null,
    "lastSuccessfullyExecutedCode": "# Importing pandas and matplotlib\nimport pandas as pd\nimport numpy as np\nimport matplotlib.pyplot as plt\n\n# Read in the Netflix CSV as a DataFrame\nnetflix_df = pd.read_csv(\"netflix_data.csv\")"
   },
   "outputs": [],
   "source": [
    "# Importing pandas and matplotlib\n",
    "import pandas as pd\n",
    "import numpy as np\n",
    "import matplotlib.pyplot as plt\n",
    "\n",
    "# Read in the Netflix CSV as a DataFrame\n",
    "netflix_df = pd.read_csv(\"netflix_data.csv\")"
   ]
  },
  {
   "cell_type": "markdown",
   "id": "bdcff9c2-a1a0-4cc2-a846-a8dee1783c61",
   "metadata": {},
   "source": [
    "## Filter for Movies"
   ]
  },
  {
   "cell_type": "code",
   "execution_count": 2,
   "id": "0ed66ce7-1547-4d85-9c60-75e4f28172d8",
   "metadata": {
    "executionCancelledAt": null,
    "executionTime": 50,
    "lastExecutedAt": 1736855674098,
    "lastExecutedByKernel": "84e4c6b8-335d-4762-aaf5-394da9d52b92",
    "lastScheduledRunId": null,
    "lastSuccessfullyExecutedCode": "netflix_df = netflix_df[netflix_df['type'] == 'Movie']"
   },
   "outputs": [],
   "source": [
    "netflix_df = netflix_df[netflix_df['type'] == 'Movie']"
   ]
  },
  {
   "cell_type": "code",
   "execution_count": 3,
   "id": "72658473-114f-49eb-bd4e-cc03c710834a",
   "metadata": {
    "executionCancelledAt": null,
    "executionTime": 48,
    "lastExecutedAt": 1736855674146,
    "lastExecutedByKernel": "84e4c6b8-335d-4762-aaf5-394da9d52b92",
    "lastScheduledRunId": null,
    "lastSuccessfullyExecutedCode": "## Exploratory of the data head"
   },
   "outputs": [],
   "source": [
    "## Exploratory of the data head"
   ]
  },
  {
   "cell_type": "code",
   "execution_count": 4,
   "id": "7fa8d582-5335-41ee-8289-54bd5d88651c",
   "metadata": {
    "chartConfig": {
     "bar": {
      "hasRoundedCorners": true,
      "stacked": false
     },
     "type": "bar",
     "version": "v1"
    },
    "executionCancelledAt": null,
    "executionTime": 72,
    "lastExecutedAt": 1736855674218,
    "lastExecutedByKernel": "84e4c6b8-335d-4762-aaf5-394da9d52b92",
    "lastScheduledRunId": null,
    "lastSuccessfullyExecutedCode": "netflix_df.head(20)",
    "outputsMetadata": {
     "0": {
      "height": 501,
      "tableState": {
       "customFilter": {
        "const": {
         "type": "boolean",
         "valid": true,
         "value": true
        },
        "id": "19e96cb1-c9ad-40ab-8d45-ac96abe75311",
        "nodeType": "const"
       },
       "quickFilterText": ""
      },
      "type": "dataFrame"
     }
    },
    "visualizeDataframe": false
   },
   "outputs": [
    {
     "data": {
      "text/html": [
       "<div>\n",
       "<style scoped>\n",
       "    .dataframe tbody tr th:only-of-type {\n",
       "        vertical-align: middle;\n",
       "    }\n",
       "\n",
       "    .dataframe tbody tr th {\n",
       "        vertical-align: top;\n",
       "    }\n",
       "\n",
       "    .dataframe thead th {\n",
       "        text-align: right;\n",
       "    }\n",
       "</style>\n",
       "<table border=\"1\" class=\"dataframe\">\n",
       "  <thead>\n",
       "    <tr style=\"text-align: right;\">\n",
       "      <th></th>\n",
       "      <th>show_id</th>\n",
       "      <th>type</th>\n",
       "      <th>title</th>\n",
       "      <th>director</th>\n",
       "      <th>cast</th>\n",
       "      <th>country</th>\n",
       "      <th>date_added</th>\n",
       "      <th>release_year</th>\n",
       "      <th>duration</th>\n",
       "      <th>description</th>\n",
       "      <th>genre</th>\n",
       "    </tr>\n",
       "  </thead>\n",
       "  <tbody>\n",
       "    <tr>\n",
       "      <th>0</th>\n",
       "      <td>s2</td>\n",
       "      <td>Movie</td>\n",
       "      <td>7:19</td>\n",
       "      <td>Jorge Michel Grau</td>\n",
       "      <td>Demián Bichir, Héctor Bonilla, Oscar Serrano, ...</td>\n",
       "      <td>Mexico</td>\n",
       "      <td>December 23, 2016</td>\n",
       "      <td>2016</td>\n",
       "      <td>93</td>\n",
       "      <td>After a devastating earthquake hits Mexico Cit...</td>\n",
       "      <td>Dramas</td>\n",
       "    </tr>\n",
       "  </tbody>\n",
       "</table>\n",
       "</div>"
      ],
      "text/plain": [
       "  show_id   type title           director  \\\n",
       "0      s2  Movie  7:19  Jorge Michel Grau   \n",
       "\n",
       "                                                cast country  \\\n",
       "0  Demián Bichir, Héctor Bonilla, Oscar Serrano, ...  Mexico   \n",
       "\n",
       "          date_added  release_year  duration  \\\n",
       "0  December 23, 2016          2016        93   \n",
       "\n",
       "                                         description   genre  \n",
       "0  After a devastating earthquake hits Mexico Cit...  Dramas  "
      ]
     },
     "execution_count": 4,
     "metadata": {},
     "output_type": "execute_result"
    }
   ],
   "source": [
    "netflix_df.head(1)"
   ]
  },
  {
   "cell_type": "markdown",
   "id": "339edb7f-38bf-4666-9670-ac60ea55c5f6",
   "metadata": {},
   "source": [
    "## Searching for every movie from the 90s"
   ]
  },
  {
   "cell_type": "code",
   "execution_count": 5,
   "id": "e05008d5-d196-4d3d-8fcc-16fbf1df4988",
   "metadata": {
    "executionCancelledAt": null,
    "executionTime": null,
    "lastExecutedAt": null,
    "lastExecutedByKernel": null,
    "lastScheduledRunId": null,
    "lastSuccessfullyExecutedCode": null,
    "outputsMetadata": {
     "0": {
      "height": 550,
      "tableState": {
       "customFilter": {
        "const": {
         "type": "boolean",
         "valid": true,
         "value": true
        },
        "id": "19e96cb1-c9ad-40ab-8d45-ac96abe75311",
        "nodeType": "const"
       },
       "quickFilterText": ""
      },
      "type": "dataFrame"
     }
    }
   },
   "outputs": [
    {
     "data": {
      "text/html": [
       "<div>\n",
       "<style scoped>\n",
       "    .dataframe tbody tr th:only-of-type {\n",
       "        vertical-align: middle;\n",
       "    }\n",
       "\n",
       "    .dataframe tbody tr th {\n",
       "        vertical-align: top;\n",
       "    }\n",
       "\n",
       "    .dataframe thead th {\n",
       "        text-align: right;\n",
       "    }\n",
       "</style>\n",
       "<table border=\"1\" class=\"dataframe\">\n",
       "  <thead>\n",
       "    <tr style=\"text-align: right;\">\n",
       "      <th></th>\n",
       "      <th>show_id</th>\n",
       "      <th>type</th>\n",
       "      <th>title</th>\n",
       "      <th>director</th>\n",
       "      <th>cast</th>\n",
       "      <th>country</th>\n",
       "      <th>date_added</th>\n",
       "      <th>release_year</th>\n",
       "      <th>duration</th>\n",
       "      <th>description</th>\n",
       "      <th>genre</th>\n",
       "    </tr>\n",
       "  </thead>\n",
       "  <tbody>\n",
       "    <tr>\n",
       "      <th>6</th>\n",
       "      <td>s8</td>\n",
       "      <td>Movie</td>\n",
       "      <td>187</td>\n",
       "      <td>Kevin Reynolds</td>\n",
       "      <td>Samuel L. Jackson, John Heard, Kelly Rowan, Cl...</td>\n",
       "      <td>United States</td>\n",
       "      <td>November 1, 2019</td>\n",
       "      <td>1997</td>\n",
       "      <td>119</td>\n",
       "      <td>After one of his high school students attacks ...</td>\n",
       "      <td>Dramas</td>\n",
       "    </tr>\n",
       "    <tr>\n",
       "      <th>118</th>\n",
       "      <td>s167</td>\n",
       "      <td>Movie</td>\n",
       "      <td>A Dangerous Woman</td>\n",
       "      <td>Stephen Gyllenhaal</td>\n",
       "      <td>Debra Winger, Barbara Hershey, Gabriel Byrne, ...</td>\n",
       "      <td>United States</td>\n",
       "      <td>April 1, 2018</td>\n",
       "      <td>1993</td>\n",
       "      <td>101</td>\n",
       "      <td>At the center of this engrossing melodrama is ...</td>\n",
       "      <td>Dramas</td>\n",
       "    </tr>\n",
       "  </tbody>\n",
       "</table>\n",
       "</div>"
      ],
      "text/plain": [
       "    show_id   type              title            director  \\\n",
       "6        s8  Movie                187      Kevin Reynolds   \n",
       "118    s167  Movie  A Dangerous Woman  Stephen Gyllenhaal   \n",
       "\n",
       "                                                  cast        country  \\\n",
       "6    Samuel L. Jackson, John Heard, Kelly Rowan, Cl...  United States   \n",
       "118  Debra Winger, Barbara Hershey, Gabriel Byrne, ...  United States   \n",
       "\n",
       "           date_added  release_year  duration  \\\n",
       "6    November 1, 2019          1997       119   \n",
       "118     April 1, 2018          1993       101   \n",
       "\n",
       "                                           description   genre  \n",
       "6    After one of his high school students attacks ...  Dramas  \n",
       "118  At the center of this engrossing melodrama is ...  Dramas  "
      ]
     },
     "execution_count": 5,
     "metadata": {},
     "output_type": "execute_result"
    }
   ],
   "source": [
    "# Filter the data for movies released in the 1990s and store it in movie90\n",
    "# movie90 = np.logical_and(df[\"release_year\"] >= 1990, df[\"release_year\"] < 2000)\n",
    "\n",
    "# Filter the data for movies released in the 1990s and update the dataframe\n",
    "netflix_df = netflix_df[np.logical_and(netflix_df[\"release_year\"] >= 1990, netflix_df[\"release_year\"] <= 1999)]\n",
    "netflix_df.head(2)"
   ]
  },
  {
   "cell_type": "code",
   "execution_count": 6,
   "id": "b20380ec-7862-4cd7-8041-c1329ffd5d57",
   "metadata": {
    "executionCancelledAt": null,
    "executionTime": 166,
    "lastExecutedAt": 1736855674440,
    "lastExecutedByKernel": "84e4c6b8-335d-4762-aaf5-394da9d52b92",
    "lastScheduledRunId": null,
    "lastSuccessfullyExecutedCode": "plt.hist(netflix_df[\"release_year\"], bins = 10)\nplt.show()"
   },
   "outputs": [
    {
     "data": {
      "image/png": "[encoded data removed]",
      "text/plain": [
       "<Figure size 640x480 with 1 Axes>"
      ]
     },
     "metadata": {},
     "output_type": "display_data"
    }
   ],
   "source": [
    "plt.hist(netflix_df[\"release_year\"], bins = 10)\n",
    "plt.show()"
   ]
  },
  {
   "cell_type": "markdown",
   "id": "17989e0c-3018-422c-bd65-f14ec0f1bf46",
   "metadata": {},
   "source": [
    "## Find the most frequent movie duration"
   ]
  },
  {
   "cell_type": "markdown",
   "id": "7417ef19-8a06-4d55-8dff-17e90ca0dfe6",
   "metadata": {},
   "source": [
    "Calculate most frequent movie duration in the 90s"
   ]
  },
  {
   "cell_type": "code",
   "execution_count": 7,
   "id": "9524c28a-491a-48d2-8d51-78fc58ba2508",
   "metadata": {
    "executionCancelledAt": null,
    "executionTime": 272,
    "lastExecutedAt": 1736855674712,
    "lastExecutedByKernel": "84e4c6b8-335d-4762-aaf5-394da9d52b92",
    "lastScheduledRunId": null,
    "lastSuccessfullyExecutedCode": "# Visualize the duration column of your filtered data to see the distribution of movie durations\n# See which bar is the highest and save the duration value, this doesn't need to be exact!\nplt.hist(netflix_df[\"duration\"], bins=30)\nplt.title('Distribution of Movie Durations in the 1990s')\nplt.xlabel('Duration (minutes)')\nplt.ylabel('Number of Movies')\nplt.show()"
   },
   "outputs": [
    {
     "data": {
      "image/png": "[encoded data removed]",
      "text/plain": [
       "<Figure size 640x480 with 1 Axes>"
      ]
     },
     "metadata": {},
     "output_type": "display_data"
    }
   ],
   "source": [
    "# Visualize the duration column of your filtered data to see the distribution of movie durations\n",
    "# See which bar is the highest and save the duration value, this doesn't need to be exact!\n",
    "plt.hist(netflix_df[\"duration\"], bins=30)\n",
    "plt.title('Distribution of Movie Durations in the 1990s')\n",
    "plt.xlabel('Duration (minutes)')\n",
    "plt.ylabel('Number of Movies')\n",
    "plt.show()"
   ]
  },
  {
   "cell_type": "markdown",
   "id": "4e6af527-7a23-4c8b-8fef-cbf47425e410",
   "metadata": {},
   "source": [
    "### Duration visible through histogram"
   ]
  },
  {
   "cell_type": "code",
   "execution_count": 8,
   "id": "253b71ef-6757-4fdb-8fe6-0e281e617258",
   "metadata": {
    "executionCancelledAt": null,
    "executionTime": 46,
    "lastExecutedAt": 1736855674758,
    "lastExecutedByKernel": "84e4c6b8-335d-4762-aaf5-394da9d52b92",
    "lastScheduledRunId": null,
    "lastSuccessfullyExecutedCode": "duration = 100"
   },
   "outputs": [],
   "source": [
    "duration = 100"
   ]
  },
  {
   "cell_type": "markdown",
   "id": "afe6211e-07c9-4d07-a13f-60f4f2eb35ec",
   "metadata": {},
   "source": [
    "### Further detailed exploration"
   ]
  },
  {
   "cell_type": "code",
   "execution_count": 9,
   "id": "3f73f46f-c489-48ef-bac9-e954199367c1",
   "metadata": {
    "executionCancelledAt": null,
    "executionTime": 57,
    "lastExecutedAt": 1736855674815,
    "lastExecutedByKernel": "84e4c6b8-335d-4762-aaf5-394da9d52b92",
    "lastScheduledRunId": null,
    "lastSuccessfullyExecutedCode": "netflix_df.describe()",
    "outputsMetadata": {
     "0": {
      "height": 333,
      "tableState": {
       "customFilter": {
        "const": {
         "type": "boolean",
         "valid": true,
         "value": true
        },
        "id": "ba810299-f786-4c80-8249-dbea6110c4de",
        "nodeType": "const"
       },
       "quickFilterText": ""
      },
      "type": "dataFrame"
     }
    }
   },
   "outputs": [
    {
     "data": {
      "text/html": [
       "<div>\n",
       "<style scoped>\n",
       "    .dataframe tbody tr th:only-of-type {\n",
       "        vertical-align: middle;\n",
       "    }\n",
       "\n",
       "    .dataframe tbody tr th {\n",
       "        vertical-align: top;\n",
       "    }\n",
       "\n",
       "    .dataframe thead th {\n",
       "        text-align: right;\n",
       "    }\n",
       "</style>\n",
       "<table border=\"1\" class=\"dataframe\">\n",
       "  <thead>\n",
       "    <tr style=\"text-align: right;\">\n",
       "      <th></th>\n",
       "      <th>release_year</th>\n",
       "      <th>duration</th>\n",
       "    </tr>\n",
       "  </thead>\n",
       "  <tbody>\n",
       "    <tr>\n",
       "      <th>count</th>\n",
       "      <td>183.00000</td>\n",
       "      <td>183.000000</td>\n",
       "    </tr>\n",
       "    <tr>\n",
       "      <th>mean</th>\n",
       "      <td>1995.15847</td>\n",
       "      <td>115.120219</td>\n",
       "    </tr>\n",
       "    <tr>\n",
       "      <th>std</th>\n",
       "      <td>2.92808</td>\n",
       "      <td>33.201959</td>\n",
       "    </tr>\n",
       "    <tr>\n",
       "      <th>min</th>\n",
       "      <td>1990.00000</td>\n",
       "      <td>28.000000</td>\n",
       "    </tr>\n",
       "    <tr>\n",
       "      <th>25%</th>\n",
       "      <td>1993.00000</td>\n",
       "      <td>94.000000</td>\n",
       "    </tr>\n",
       "    <tr>\n",
       "      <th>50%</th>\n",
       "      <td>1996.00000</td>\n",
       "      <td>108.000000</td>\n",
       "    </tr>\n",
       "    <tr>\n",
       "      <th>75%</th>\n",
       "      <td>1998.00000</td>\n",
       "      <td>136.000000</td>\n",
       "    </tr>\n",
       "    <tr>\n",
       "      <th>max</th>\n",
       "      <td>1999.00000</td>\n",
       "      <td>195.000000</td>\n",
       "    </tr>\n",
       "  </tbody>\n",
       "</table>\n",
       "</div>"
      ],
      "text/plain": [
       "       release_year    duration\n",
       "count     183.00000  183.000000\n",
       "mean     1995.15847  115.120219\n",
       "std         2.92808   33.201959\n",
       "min      1990.00000   28.000000\n",
       "25%      1993.00000   94.000000\n",
       "50%      1996.00000  108.000000\n",
       "75%      1998.00000  136.000000\n",
       "max      1999.00000  195.000000"
      ]
     },
     "execution_count": 9,
     "metadata": {},
     "output_type": "execute_result"
    }
   ],
   "source": [
    "netflix_df.describe()"
   ]
  },
  {
   "cell_type": "markdown",
   "id": "10bc877f-2b36-48d8-ba06-4c97e582c576",
   "metadata": {},
   "source": [
    "Creat Histogram to verify the calculation"
   ]
  },
  {
   "cell_type": "code",
   "execution_count": 10,
   "id": "7ef593c2-46e1-4da1-a64a-1cef01446ddc",
   "metadata": {
    "collapsed": false,
    "executionCancelledAt": null,
    "executionTime": 55,
    "jupyter": {
     "outputs_hidden": false,
     "source_hidden": false
    },
    "lastExecutedAt": 1736855674870,
    "lastExecutedByKernel": "84e4c6b8-335d-4762-aaf5-394da9d52b92",
    "lastScheduledRunId": null,
    "lastSuccessfullyExecutedCode": "duration_counts = netflix_df.groupby('duration').size()\n\nprint(duration_counts)\n\nduration_count = netflix_df['duration'].value_counts().index[0]\nprint(duration_count)",
    "outputsMetadata": {
     "0": {
      "height": 311,
      "type": "stream"
     }
    }
   },
   "outputs": [
    {
     "name": "stdout",
     "output_type": "stream",
     "text": [
      "duration\n",
      "28     1\n",
      "30     1\n",
      "31     1\n",
      "49     2\n",
      "56     1\n",
      "      ..\n",
      "187    1\n",
      "189    1\n",
      "191    1\n",
      "193    1\n",
      "195    1\n",
      "Length: 91, dtype: int64\n",
      "94\n"
     ]
    }
   ],
   "source": [
    "duration_counts = netflix_df.groupby('duration').size()\n",
    "\n",
    "print(duration_counts)\n",
    "\n",
    "duration_count = netflix_df['duration'].value_counts().index[0]\n",
    "print(duration_count)"
   ]
  },
  {
   "cell_type": "code",
   "execution_count": 11,
   "id": "f056f4db-e6f5-4b14-ac08-f2e31dd9f515",
   "metadata": {
    "executionCancelledAt": null,
    "executionTime": 886,
    "lastExecutedAt": 1736855675756,
    "lastExecutedByKernel": "84e4c6b8-335d-4762-aaf5-394da9d52b92",
    "lastScheduledRunId": null,
    "lastSuccessfullyExecutedCode": "# Bar plot of duration counts\nplt.figure(figsize=(12, 6))\nduration_counts.plot(kind='bar')\nplt.title('Movie Duration Frequencies in 1990s')\nplt.xlabel('Duration (minutes)')\nplt.ylabel('Number of Movies')\nplt.show()"
   },
   "outputs": [
    {
     "data": {
      "image/png": "[encoded data removed]",
      "text/plain": [
       "<Figure size 1200x600 with 1 Axes>"
      ]
     },
     "metadata": {},
     "output_type": "display_data"
    }
   ],
   "source": [
    "# Bar plot of duration counts\n",
    "plt.figure(figsize=(12, 6))\n",
    "duration_counts.plot(kind='bar')\n",
    "plt.title('Movie Duration Frequencies in 1990s')\n",
    "plt.xlabel('Duration (minutes)')\n",
    "plt.ylabel('Number of Movies')\n",
    "plt.show()"
   ]
  },
  {
   "cell_type": "markdown",
   "id": "3d507efe-2663-40d9-a03a-bcc7db89d107",
   "metadata": {},
   "source": [
    "## Count the number of short action movies from the 1990s"
   ]
  },
  {
   "cell_type": "code",
   "execution_count": 12,
   "id": "92c65492-0ec4-4042-8447-86b71e8db142",
   "metadata": {
    "executionCancelledAt": null,
    "executionTime": 62,
    "lastExecutedAt": 1736855675818,
    "lastExecutedByKernel": "84e4c6b8-335d-4762-aaf5-394da9d52b92",
    "lastScheduledRunId": null,
    "lastSuccessfullyExecutedCode": "netflix_df.head(19)",
    "outputsMetadata": {
     "0": {
      "height": 543,
      "type": "dataFrame"
     }
    }
   },
   "outputs": [
    {
     "data": {
      "text/html": [
       "<div>\n",
       "<style scoped>\n",
       "    .dataframe tbody tr th:only-of-type {\n",
       "        vertical-align: middle;\n",
       "    }\n",
       "\n",
       "    .dataframe tbody tr th {\n",
       "        vertical-align: top;\n",
       "    }\n",
       "\n",
       "    .dataframe thead th {\n",
       "        text-align: right;\n",
       "    }\n",
       "</style>\n",
       "<table border=\"1\" class=\"dataframe\">\n",
       "  <thead>\n",
       "    <tr style=\"text-align: right;\">\n",
       "      <th></th>\n",
       "      <th>show_id</th>\n",
       "      <th>type</th>\n",
       "      <th>title</th>\n",
       "      <th>director</th>\n",
       "      <th>cast</th>\n",
       "      <th>country</th>\n",
       "      <th>date_added</th>\n",
       "      <th>release_year</th>\n",
       "      <th>duration</th>\n",
       "      <th>description</th>\n",
       "      <th>genre</th>\n",
       "    </tr>\n",
       "  </thead>\n",
       "  <tbody>\n",
       "    <tr>\n",
       "      <th>6</th>\n",
       "      <td>s8</td>\n",
       "      <td>Movie</td>\n",
       "      <td>187</td>\n",
       "      <td>Kevin Reynolds</td>\n",
       "      <td>Samuel L. Jackson, John Heard, Kelly Rowan, Cl...</td>\n",
       "      <td>United States</td>\n",
       "      <td>November 1, 2019</td>\n",
       "      <td>1997</td>\n",
       "      <td>119</td>\n",
       "      <td>After one of his high school students attacks ...</td>\n",
       "      <td>Dramas</td>\n",
       "    </tr>\n",
       "    <tr>\n",
       "      <th>118</th>\n",
       "      <td>s167</td>\n",
       "      <td>Movie</td>\n",
       "      <td>A Dangerous Woman</td>\n",
       "      <td>Stephen Gyllenhaal</td>\n",
       "      <td>Debra Winger, Barbara Hershey, Gabriel Byrne, ...</td>\n",
       "      <td>United States</td>\n",
       "      <td>April 1, 2018</td>\n",
       "      <td>1993</td>\n",
       "      <td>101</td>\n",
       "      <td>At the center of this engrossing melodrama is ...</td>\n",
       "      <td>Dramas</td>\n",
       "    </tr>\n",
       "  </tbody>\n",
       "</table>\n",
       "</div>"
      ],
      "text/plain": [
       "    show_id   type              title            director  \\\n",
       "6        s8  Movie                187      Kevin Reynolds   \n",
       "118    s167  Movie  A Dangerous Woman  Stephen Gyllenhaal   \n",
       "\n",
       "                                                  cast        country  \\\n",
       "6    Samuel L. Jackson, John Heard, Kelly Rowan, Cl...  United States   \n",
       "118  Debra Winger, Barbara Hershey, Gabriel Byrne, ...  United States   \n",
       "\n",
       "           date_added  release_year  duration  \\\n",
       "6    November 1, 2019          1997       119   \n",
       "118     April 1, 2018          1993       101   \n",
       "\n",
       "                                           description   genre  \n",
       "6    After one of his high school students attacks ...  Dramas  \n",
       "118  At the center of this engrossing melodrama is ...  Dramas  "
      ]
     },
     "execution_count": 12,
     "metadata": {},
     "output_type": "execute_result"
    }
   ],
   "source": [
    "netflix_df.head(2)"
   ]
  },
  {
   "cell_type": "code",
   "execution_count": 13,
   "id": "7708f56e-733a-46f2-af02-a2f8afda940c",
   "metadata": {
    "collapsed": false,
    "executionCancelledAt": null,
    "executionTime": 52,
    "jupyter": {
     "outputs_hidden": false,
     "source_hidden": false
    },
    "lastExecutedAt": 1736855675870,
    "lastExecutedByKernel": "84e4c6b8-335d-4762-aaf5-394da9d52b92",
    "lastScheduledRunId": null,
    "lastSuccessfullyExecutedCode": "# filter for action movies in the 90s\nnetflix_df = netflix_df[(netflix_df['genre'] == 'Action')]\n\n# Initialize counter\nshort_movie_count = 0\n\n# Iteration through movies and count those less than 90 minutes\nfor duration in netflix_df['duration']:\n    if duration < 90:\n        short_movie_count += 1\nprint(\"There are \" + str(short_movie_count) + \" short action movies\")",
    "outputsMetadata": {
     "0": {
      "height": 38,
      "type": "stream"
     }
    }
   },
   "outputs": [
    {
     "name": "stdout",
     "output_type": "stream",
     "text": [
      "There are 7 short action movies\n"
     ]
    }
   ],
   "source": [
    "# filter for action movies in the 90s\n",
    "netflix_df = netflix_df[(netflix_df['genre'] == 'Action')]\n",
    "\n",
    "# Initialize counter\n",
    "short_movie_count = 0\n",
    "\n",
    "# Iteration through movies and count those less than 90 minutes\n",
    "for duration in netflix_df['duration']:\n",
    "    if duration < 90:\n",
    "        short_movie_count += 1\n",
    "print(\"There are \" + str(short_movie_count) + \" short action movies\")"
   ]
  },
  {
   "cell_type": "markdown",
   "id": "90d67e60-d78c-4d50-b5a7-6d6c263a5048",
   "metadata": {},
   "source": [
    "### Verify the results through a bar plot"
   ]
  },
  {
   "cell_type": "code",
   "execution_count": 20,
   "id": "1f6578d1-bb7d-4468-a6d7-6b37c4072b89",
   "metadata": {
    "scrolled": true
   },
   "outputs": [
    {
     "data": {
      "image/png": "[encoded data removed]",
      "text/plain": [
       "<Figure size 800x600 with 1 Axes>"
      ]
     },
     "metadata": {},
     "output_type": "display_data"
    }
   ],
   "source": [
    "under_90 = len(netflix_df[netflix_df['duration'] < 90])\n",
    "over_90 = len(netflix_df[netflix_df['duration'] >= 90])\n",
    "\n",
    "# Create data for plotting\n",
    "categories = ['Under 90 mins', '90 mins or longer']\n",
    "counts = [under_90, over_90]\n",
    "colors = ['red', 'blue']\n",
    "\n",
    "# Create bar plot\n",
    "plt.figure(figsize=(8, 6))\n",
    "plt.bar(categories, counts, color=colors)\n",
    "\n",
    "# Customize the plot\n",
    "plt.title('Distribution of Movie Durations')\n",
    "plt.ylabel('Number of Movies')\n",
    "\n",
    "# Add value labels on top of each bar\n",
    "for i, count in enumerate(counts):\n",
    "    plt.text(i, count, str(count), ha='center', va='bottom')\n",
    "\n",
    "plt.tight_layout()\n",
    "plt.show()"
   ]
  },
  {
   "cell_type": "code",
   "execution_count": null,
   "id": "0cee5b7b-2dbf-4ca6-b26a-8c2b50cc1dd0",
   "metadata": {},
   "outputs": [],
   "source": []
  }
 ],
 "metadata": {
  "colab": {
   "name": "Welcome to DataCamp Workspaces.ipynb",
   "provenance": []
  },
  "editor": "DataLab",
  "kernelspec": {
   "display_name": "Python 3 (ipykernel)",
   "language": "python",
   "name": "python3"
  },
  "language_info": {
   "codemirror_mode": {
    "name": "ipython",
    "version": 3
   },
   "file_extension": ".py",
   "mimetype": "text/x-python",
   "name": "python",
   "nbconvert_exporter": "python",
   "pygments_lexer": "ipython3",
   "version": "3.12.0"
  }
 },
 "nbformat": 4,
 "nbformat_minor": 5
}
